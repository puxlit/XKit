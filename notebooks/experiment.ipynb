{
 "cells": [
  {
   "cell_type": "markdown",
   "metadata": {},
   "source": [
    "# XKit Lightweight Bootstrap\n",
    "\n",
    "## Rough Notes\n",
    "\n",
    "  - motivation\n",
    "      - [#1432: Memory spike when directly visiting blogs](https://github.com/new-xkit/XKit/issues/1432)\n",
    "  - cases\n",
    "      - no XKit; baseline\n",
    "      - XKit bootstrapped as a content script with a minimal static blacklist and eager loading of assets; effectively pre-[#1433](https://github.com/new-xkit/XKit/pull/1433)\n",
    "      - XKit bootstrapped as a content script with an aggressive static blacklist and eager loading of assets; post-[#1433](https://github.com/new-xkit/XKit/pull/1433)\n",
    "      - XKit bootstrapped as a content script with a dynamic whitelist and deferred loading of assets\n",
    "          - two sub-cases will mimic configurations equivalent to the aforementioned minimal and aggressive static blacklists\n",
    "      - XKit bootstrapped as a background script with a dynamic whitelist and deferred loading of assets; more opportunity to share resources, plus we can do fancy things like intercept `/xkit_editor` requests earlier\n",
    "  - measurements\n",
    "      - page timings\n",
    "      - Chrome DevTools Performance\n",
    "          - JS memory usage peak\n",
    "          - total XKit-related JS execution duration\n",
    "      - perhaps Chrome CPU/memory usage (via collectd)\n",
    "  - targets\n",
    "      - [yet-another-xkit-dev](https://yet-another-xkit-dev.tumblr.com/)  \n",
    "        ![Screenshot of yet-another-xkit-dev.tumblr.com](blog.png)\n",
    "          - 15 posts, 32 iframes (15 like, 5 photoset, 5 video, 5 audio, 1 controls, 1 analytics)\n",
    "          - test as anonymous user\n",
    "          - test with both cold and warm caches (as network requests for such a media-heavy page might mask the cost of running the extension)\n",
    "      - probably not the dashboard, since we're primarily interested in exercising the iframe-heavy blog page use case\n",
    "  - considerations\n",
    "      - GC\n",
    "      - variable VM and network performance\n",
    "      - gotta nix update checks\n",
    "      - whether any hypothetical performance improvements can justify a change in WebExtension permissions\n",
    "      - perhaps we should also test with authenticated users and more representative XKit extension loadouts"
   ]
  }
 ],
 "metadata": {
  "kernelspec": {
   "display_name": "Python 3",
   "language": "python",
   "name": "python3"
  },
  "language_info": {
   "codemirror_mode": {
    "name": "ipython",
    "version": 3
   },
   "file_extension": ".py",
   "mimetype": "text/x-python",
   "name": "python",
   "nbconvert_exporter": "python",
   "pygments_lexer": "ipython3",
   "version": "3.6.3"
  }
 },
 "nbformat": 4,
 "nbformat_minor": 2
}
